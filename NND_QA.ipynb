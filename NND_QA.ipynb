{
 "cells": [
  {
   "cell_type": "code",
   "execution_count": null,
   "metadata": {},
   "outputs": [],
   "source": [
    "# This notebook runs the NND experiment in \n",
    "# Section 5.3 of the paper: \"Model Scaling Effects\"\n",
    "# On the Challenge 300 Generative QA dataset,\n",
    "# Three QA model families are compared:\n",
    "# T5-ssm, UnifiedQA, and Macaw"
   ]
  },
  {
   "cell_type": "code",
   "execution_count": 1,
   "metadata": {},
   "outputs": [
    {
     "name": "stdout",
     "output_type": "stream",
     "text": [
      "Will use GPU: 1\n"
     ]
    }
   ],
   "source": [
    "import utils_misc, json, pandas as pd\n",
    "freer_gpu = utils_misc.select_freer_gpu()\n",
    "\n",
    "from utils_nnd_dataset import load_c300_nnd\n",
    "from utils_nnd import GeneratorHF\n",
    "import utils_nnd"
   ]
  },
  {
   "cell_type": "code",
   "execution_count": 2,
   "metadata": {},
   "outputs": [
    {
     "data": {
      "text/plain": [
       "9"
      ]
     },
     "execution_count": 2,
     "metadata": {},
     "output_type": "execute_result"
    }
   ],
   "source": [
    "models = [\n",
    "        {\"model_card\": \"google/t5-small-ssm-nq\", \"model_name\": \"t5-small-ssm-nq\"},\n",
    "        {\"model_card\": \"google/t5-large-ssm-nq\", \"model_name\": \"t5-large-ssm-nq\"},\n",
    "        {\"model_card\": \"google/t5-xl-ssm-nq\", \"model_name\": \"t5-xl-ssm-nq\"},\n",
    "        {\"model_card\": \"allenai/macaw-large\", \"model_name\": \"macaw-large\", \"params\": {\"force_dec_prepend\": \"$answer$ = \"}},\n",
    "        {\"model_card\": \"allenai/macaw-3b\", \"model_name\": \"macaw-3b\", \"params\": {\"force_dec_prepend\": \"$answer$ = \"}},\n",
    "        {\"model_card\": \"allenai/unifiedqa-t5-small\", \"model_name\": \"unifiedqa-t5-small\"},\n",
    "        {\"model_card\": \"allenai/unifiedqa-t5-base\", \"model_name\": \"unifiedqa-t5-base\"},\n",
    "        {\"model_card\": \"allenai/unifiedqa-t5-large\", \"model_name\": \"unifiedqa-t5-large\"},\n",
    "        {\"model_card\": \"allenai/unifiedqa-t5-3b\", \"model_name\": \"unifiedqa-t5-3b\"},\n",
    "\n",
    "        # CPU-only models\n",
    "        # {\"model_card\": \"google/t5-xxl-ssm-nq\", \"model_name\": \"t5-xxl-ssm-nq\", \"params\": {\"device\": \"cpu\"}},\n",
    "        # {\"model_card\": \"allenai/macaw-11b\", \"starter_file\": None, \"model_name\": \"macaw-11b\", \"params\": {\"force_dec_prepend\": \"$answer$ = \", \"device\": \"cpu\"}},\n",
    "        # {\"model_card\": \"allenai/macaw-answer-11b\", \"starter_file\": None, \"model_name\": \"macaw-answer-11b\", \"params\": {\"force_dec_prepend\": \"$answer$ = \", \"device\": \"cpu\"}},\n",
    "        # {\"model_card\": \"allenai/unifiedqa-t5-11b\", \"model_name\": \"unifiedqa-t5-11b\", \"params\": {\"device\": \"cpu\"}},\n",
    "    ]\n",
    "\n",
    "len(models)"
   ]
  },
  {
   "cell_type": "code",
   "execution_count": 3,
   "metadata": {},
   "outputs": [
    {
     "name": "stdout",
     "output_type": "stream",
     "text": [
      "t5-small-ssm-nq\n"
     ]
    },
    {
     "name": "stderr",
     "output_type": "stream",
     "text": [
      "/export/home/anaconda3/lib/python3.8/site-packages/transformers/configuration_utils.py:336: UserWarning: Passing `gradient_checkpointing` to a config initialization is deprecated and will be removed in v5 Transformers. Using `model.gradient_checkpointing_enable()` instead, or if you are using the `Trainer` API, pass `gradient_checkpointing=True` in your `TrainingArguments`.\n",
      "  warnings.warn(\n",
      "NND t5-small-ssm-nq:   0%|          | 0/807 [00:00<?, ?it/s]Asking to truncate to max_length but no maximum length is provided and the model has no predefined maximum length. Default to no truncation.\n",
      "NND t5-small-ssm-nq: 100%|██████████| 807/807 [03:05<00:00,  4.34it/s]\n"
     ]
    },
    {
     "name": "stdout",
     "output_type": "stream",
     "text": [
      "{'model_name': 't5-small-ssm-nq', 'accuracy': 51.42503097893433, 'A_1.0': 0.5142503097893433, 'A_0.0': 0.5142503097893433, 'A_Common Sense': 0.5057915057915058, 'A_Comparison': 0.7333333333333333, 'A_Entity': 0.6808510638297872, 'A_Creativity': 0.7352941176470589, 'A_Science': 0.44041450777202074}\n",
      "t5-large-ssm-nq\n"
     ]
    },
    {
     "name": "stderr",
     "output_type": "stream",
     "text": [
      "NND t5-large-ssm-nq:   0%|          | 0/807 [00:00<?, ?it/s]Asking to truncate to max_length but no maximum length is provided and the model has no predefined maximum length. Default to no truncation.\n",
      "NND t5-large-ssm-nq: 100%|██████████| 807/807 [06:51<00:00,  1.96it/s]\n"
     ]
    },
    {
     "name": "stdout",
     "output_type": "stream",
     "text": [
      "{'model_name': 't5-large-ssm-nq', 'accuracy': 57.372986369268894, 'A_1.0': 0.573729863692689, 'A_0.0': 0.573729863692689, 'A_Common Sense': 0.6312741312741312, 'A_Comparison': 0.26666666666666666, 'A_Entity': 0.7021276595744681, 'A_Creativity': 0.5588235294117647, 'A_Science': 0.41450777202072536}\n",
      "t5-xl-ssm-nq\n"
     ]
    },
    {
     "name": "stderr",
     "output_type": "stream",
     "text": [
      "NND t5-xl-ssm-nq: 100%|██████████| 807/807 [09:15<00:00,  1.45it/s]\n"
     ]
    },
    {
     "name": "stdout",
     "output_type": "stream",
     "text": [
      "{'model_name': 't5-xl-ssm-nq', 'accuracy': 55.762081784386616, 'A_1.0': 0.5576208178438662, 'A_0.0': 0.5576208178438662, 'A_Common Sense': 0.5907335907335908, 'A_Comparison': 0.4666666666666667, 'A_Entity': 0.723404255319149, 'A_Creativity': 0.6176470588235294, 'A_Science': 0.42487046632124353}\n",
      "macaw-large\n"
     ]
    },
    {
     "name": "stderr",
     "output_type": "stream",
     "text": [
      "NND macaw-large: 100%|██████████| 807/807 [07:34<00:00,  1.78it/s]\n"
     ]
    },
    {
     "name": "stdout",
     "output_type": "stream",
     "text": [
      "{'model_name': 'macaw-large', 'accuracy': 64.31226765799256, 'A_1.0': 0.6431226765799256, 'A_0.0': 0.6431226765799256, 'A_Common Sense': 0.6583011583011583, 'A_Comparison': 0.7333333333333333, 'A_Entity': 0.5957446808510638, 'A_Creativity': 0.7647058823529411, 'A_Science': 0.5854922279792746}\n",
      "macaw-3b\n"
     ]
    },
    {
     "name": "stderr",
     "output_type": "stream",
     "text": [
      "NND macaw-3b: 100%|██████████| 807/807 [08:12<00:00,  1.64it/s]\n"
     ]
    },
    {
     "name": "stdout",
     "output_type": "stream",
     "text": [
      "{'model_name': 'macaw-3b', 'accuracy': 68.64931846344486, 'A_1.0': 0.6864931846344485, 'A_0.0': 0.6864931846344486, 'A_Common Sense': 0.6872586872586872, 'A_Comparison': 0.6, 'A_Entity': 0.5957446808510638, 'A_Creativity': 0.8235294117647058, 'A_Science': 0.689119170984456}\n",
      "unifiedqa-t5-small\n"
     ]
    },
    {
     "name": "stderr",
     "output_type": "stream",
     "text": [
      "NND unifiedqa-t5-small: 100%|██████████| 807/807 [02:18<00:00,  5.82it/s]\n"
     ]
    },
    {
     "name": "stdout",
     "output_type": "stream",
     "text": [
      "{'model_name': 'unifiedqa-t5-small', 'accuracy': 56.25774473358116, 'A_1.0': 0.5625774473358116, 'A_0.0': 0.5625774473358116, 'A_Common Sense': 0.5231660231660231, 'A_Comparison': 0.5333333333333333, 'A_Entity': 0.574468085106383, 'A_Creativity': 0.6176470588235294, 'A_Science': 0.6580310880829016}\n",
      "unifiedqa-t5-base\n"
     ]
    },
    {
     "name": "stderr",
     "output_type": "stream",
     "text": [
      "NND unifiedqa-t5-base: 100%|██████████| 807/807 [03:54<00:00,  3.45it/s]\n"
     ]
    },
    {
     "name": "stdout",
     "output_type": "stream",
     "text": [
      "{'model_name': 'unifiedqa-t5-base', 'accuracy': 59.97521685254027, 'A_1.0': 0.5997521685254027, 'A_0.0': 0.5997521685254028, 'A_Common Sense': 0.5656370656370656, 'A_Comparison': 0.4, 'A_Entity': 0.6170212765957447, 'A_Creativity': 0.6470588235294118, 'A_Science': 0.694300518134715}\n",
      "unifiedqa-t5-large\n"
     ]
    },
    {
     "name": "stderr",
     "output_type": "stream",
     "text": [
      "NND unifiedqa-t5-large: 100%|██████████| 807/807 [07:29<00:00,  1.80it/s]\n"
     ]
    },
    {
     "name": "stdout",
     "output_type": "stream",
     "text": [
      "{'model_name': 'unifiedqa-t5-large', 'accuracy': 63.320941759603464, 'A_1.0': 0.6332094175960347, 'A_0.0': 0.6332094175960348, 'A_Common Sense': 0.6332046332046332, 'A_Comparison': 0.4666666666666667, 'A_Entity': 0.6808510638297872, 'A_Creativity': 0.6764705882352942, 'A_Science': 0.6269430051813472}\n",
      "unifiedqa-t5-3b\n"
     ]
    },
    {
     "name": "stderr",
     "output_type": "stream",
     "text": [
      "NND unifiedqa-t5-3b: 100%|██████████| 807/807 [07:08<00:00,  1.89it/s]"
     ]
    },
    {
     "name": "stdout",
     "output_type": "stream",
     "text": [
      "{'model_name': 'unifiedqa-t5-3b', 'accuracy': 64.43618339529121, 'A_1.0': 0.644361833952912, 'A_0.0': 0.644361833952912, 'A_Common Sense': 0.6293436293436293, 'A_Comparison': 0.4666666666666667, 'A_Entity': 0.5957446808510638, 'A_Creativity': 0.8235294117647058, 'A_Science': 0.6787564766839378}\n"
     ]
    },
    {
     "name": "stderr",
     "output_type": "stream",
     "text": [
      "\n"
     ]
    },
    {
     "data": {
      "text/html": [
       "<div>\n",
       "<style scoped>\n",
       "    .dataframe tbody tr th:only-of-type {\n",
       "        vertical-align: middle;\n",
       "    }\n",
       "\n",
       "    .dataframe tbody tr th {\n",
       "        vertical-align: top;\n",
       "    }\n",
       "\n",
       "    .dataframe thead th {\n",
       "        text-align: right;\n",
       "    }\n",
       "</style>\n",
       "<table border=\"1\" class=\"dataframe\">\n",
       "  <thead>\n",
       "    <tr style=\"text-align: right;\">\n",
       "      <th></th>\n",
       "      <th>model_name</th>\n",
       "      <th>accuracy</th>\n",
       "      <th>A_1.0</th>\n",
       "      <th>A_0.0</th>\n",
       "      <th>A_Common Sense</th>\n",
       "      <th>A_Comparison</th>\n",
       "      <th>A_Entity</th>\n",
       "      <th>A_Creativity</th>\n",
       "      <th>A_Science</th>\n",
       "    </tr>\n",
       "  </thead>\n",
       "  <tbody>\n",
       "    <tr>\n",
       "      <th>0</th>\n",
       "      <td>t5-small-ssm-nq</td>\n",
       "      <td>51.425031</td>\n",
       "      <td>0.514250</td>\n",
       "      <td>0.514250</td>\n",
       "      <td>0.505792</td>\n",
       "      <td>0.733333</td>\n",
       "      <td>0.680851</td>\n",
       "      <td>0.735294</td>\n",
       "      <td>0.440415</td>\n",
       "    </tr>\n",
       "    <tr>\n",
       "      <th>1</th>\n",
       "      <td>t5-large-ssm-nq</td>\n",
       "      <td>57.372986</td>\n",
       "      <td>0.573730</td>\n",
       "      <td>0.573730</td>\n",
       "      <td>0.631274</td>\n",
       "      <td>0.266667</td>\n",
       "      <td>0.702128</td>\n",
       "      <td>0.558824</td>\n",
       "      <td>0.414508</td>\n",
       "    </tr>\n",
       "    <tr>\n",
       "      <th>2</th>\n",
       "      <td>t5-xl-ssm-nq</td>\n",
       "      <td>55.762082</td>\n",
       "      <td>0.557621</td>\n",
       "      <td>0.557621</td>\n",
       "      <td>0.590734</td>\n",
       "      <td>0.466667</td>\n",
       "      <td>0.723404</td>\n",
       "      <td>0.617647</td>\n",
       "      <td>0.424870</td>\n",
       "    </tr>\n",
       "    <tr>\n",
       "      <th>3</th>\n",
       "      <td>macaw-large</td>\n",
       "      <td>64.312268</td>\n",
       "      <td>0.643123</td>\n",
       "      <td>0.643123</td>\n",
       "      <td>0.658301</td>\n",
       "      <td>0.733333</td>\n",
       "      <td>0.595745</td>\n",
       "      <td>0.764706</td>\n",
       "      <td>0.585492</td>\n",
       "    </tr>\n",
       "    <tr>\n",
       "      <th>4</th>\n",
       "      <td>macaw-3b</td>\n",
       "      <td>68.649318</td>\n",
       "      <td>0.686493</td>\n",
       "      <td>0.686493</td>\n",
       "      <td>0.687259</td>\n",
       "      <td>0.600000</td>\n",
       "      <td>0.595745</td>\n",
       "      <td>0.823529</td>\n",
       "      <td>0.689119</td>\n",
       "    </tr>\n",
       "    <tr>\n",
       "      <th>5</th>\n",
       "      <td>unifiedqa-t5-small</td>\n",
       "      <td>56.257745</td>\n",
       "      <td>0.562577</td>\n",
       "      <td>0.562577</td>\n",
       "      <td>0.523166</td>\n",
       "      <td>0.533333</td>\n",
       "      <td>0.574468</td>\n",
       "      <td>0.617647</td>\n",
       "      <td>0.658031</td>\n",
       "    </tr>\n",
       "    <tr>\n",
       "      <th>6</th>\n",
       "      <td>unifiedqa-t5-base</td>\n",
       "      <td>59.975217</td>\n",
       "      <td>0.599752</td>\n",
       "      <td>0.599752</td>\n",
       "      <td>0.565637</td>\n",
       "      <td>0.400000</td>\n",
       "      <td>0.617021</td>\n",
       "      <td>0.647059</td>\n",
       "      <td>0.694301</td>\n",
       "    </tr>\n",
       "    <tr>\n",
       "      <th>7</th>\n",
       "      <td>unifiedqa-t5-large</td>\n",
       "      <td>63.320942</td>\n",
       "      <td>0.633209</td>\n",
       "      <td>0.633209</td>\n",
       "      <td>0.633205</td>\n",
       "      <td>0.466667</td>\n",
       "      <td>0.680851</td>\n",
       "      <td>0.676471</td>\n",
       "      <td>0.626943</td>\n",
       "    </tr>\n",
       "    <tr>\n",
       "      <th>8</th>\n",
       "      <td>unifiedqa-t5-3b</td>\n",
       "      <td>64.436183</td>\n",
       "      <td>0.644362</td>\n",
       "      <td>0.644362</td>\n",
       "      <td>0.629344</td>\n",
       "      <td>0.466667</td>\n",
       "      <td>0.595745</td>\n",
       "      <td>0.823529</td>\n",
       "      <td>0.678756</td>\n",
       "    </tr>\n",
       "  </tbody>\n",
       "</table>\n",
       "</div>"
      ],
      "text/plain": [
       "           model_name   accuracy     A_1.0     A_0.0  A_Common Sense  \\\n",
       "0     t5-small-ssm-nq  51.425031  0.514250  0.514250        0.505792   \n",
       "1     t5-large-ssm-nq  57.372986  0.573730  0.573730        0.631274   \n",
       "2        t5-xl-ssm-nq  55.762082  0.557621  0.557621        0.590734   \n",
       "3         macaw-large  64.312268  0.643123  0.643123        0.658301   \n",
       "4            macaw-3b  68.649318  0.686493  0.686493        0.687259   \n",
       "5  unifiedqa-t5-small  56.257745  0.562577  0.562577        0.523166   \n",
       "6   unifiedqa-t5-base  59.975217  0.599752  0.599752        0.565637   \n",
       "7  unifiedqa-t5-large  63.320942  0.633209  0.633209        0.633205   \n",
       "8     unifiedqa-t5-3b  64.436183  0.644362  0.644362        0.629344   \n",
       "\n",
       "   A_Comparison  A_Entity  A_Creativity  A_Science  \n",
       "0      0.733333  0.680851      0.735294   0.440415  \n",
       "1      0.266667  0.702128      0.558824   0.414508  \n",
       "2      0.466667  0.723404      0.617647   0.424870  \n",
       "3      0.733333  0.595745      0.764706   0.585492  \n",
       "4      0.600000  0.595745      0.823529   0.689119  \n",
       "5      0.533333  0.574468      0.617647   0.658031  \n",
       "6      0.400000  0.617021      0.647059   0.694301  \n",
       "7      0.466667  0.680851      0.676471   0.626943  \n",
       "8      0.466667  0.595745      0.823529   0.678756  "
      ]
     },
     "execution_count": 3,
     "metadata": {},
     "output_type": "execute_result"
    }
   ],
   "source": [
    "results = []\n",
    "for gen in models:\n",
    "    c300_nnd = load_c300_nnd(datafolder=\"/export/home/data/\", model_card=gen[\"model_card\"])\n",
    "    print(gen[\"model_name\"])\n",
    "    model = GeneratorHF(model_card=gen[\"model_card\"], **gen.get(\"params\", {}))\n",
    "    result = utils_nnd.run_nnd(c300_nnd, model, gen[\"model_name\"], no_error_label=1.0, breakdown_key=\"cat_group\", report_type=\"accuracy\")\n",
    "    results.append(result)\n",
    "    print(result)\n",
    "pd.DataFrame(results)"
   ]
  }
 ],
 "metadata": {
  "interpreter": {
   "hash": "67c54bf5fb630355f694c741165b3bdb09e3b950d114a736855d00c72ee312e0"
  },
  "kernelspec": {
   "display_name": "Python 3.8.8 64-bit ('base': conda)",
   "language": "python",
   "name": "python3"
  },
  "language_info": {
   "codemirror_mode": {
    "name": "ipython",
    "version": 3
   },
   "file_extension": ".py",
   "mimetype": "text/x-python",
   "name": "python",
   "nbconvert_exporter": "python",
   "pygments_lexer": "ipython3",
   "version": "3.8.8"
  },
  "orig_nbformat": 4
 },
 "nbformat": 4,
 "nbformat_minor": 2
}
