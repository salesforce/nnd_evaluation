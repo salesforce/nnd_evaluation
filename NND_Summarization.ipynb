{
 "cells": [
  {
   "cell_type": "code",
   "execution_count": 1,
   "id": "6ff6c414",
   "metadata": {},
   "outputs": [],
   "source": [
    "# This notebook runs the NND experiment in \n",
    "# Section 5.2 of the paper: \"Fine-Grained Model Comparison\"\n",
    "# BART-Large-cnn is compared to the PEGASUS-cnn model\n",
    "# using SummEval NND for broad comparison\n",
    "# and FRANK NND for more specific comparison on factual consistency\n",
    "# [UPDATE] Added the BRIO model to the notebook"
   ]
  },
  {
   "cell_type": "code",
   "execution_count": 1,
   "id": "5400329c",
   "metadata": {
    "scrolled": false
   },
   "outputs": [],
   "source": [
    "from utils_nnd_dataset import load_frank_nnd, load_summeval_nnd\n",
    "from utils_nnd import GeneratorHF, run_nnd\n",
    "import pandas as pd"
   ]
  },
  {
   "cell_type": "code",
   "execution_count": 2,
   "id": "7dc15cde",
   "metadata": {},
   "outputs": [
    {
     "name": "stderr",
     "output_type": "stream",
     "text": [
      "Reusing dataset cnn_dailymail (/export/home/.cache/huggingface/datasets/cnn_dailymail/3.0.0/3.0.0/3cb851bf7cf5826e45d49db2863f627cba583cbc32342df7349dfe6c38060234)\n"
     ]
    },
    {
     "name": "stdout",
     "output_type": "stream",
     "text": [
      "SummEval has 3613 NND test pairs; FRANK has 848\n"
     ]
    }
   ],
   "source": [
    "summeval_nnd_test = load_summeval_nnd(\"/export/share/plaban/data/summac_benchmark/summeval/\")\n",
    "frank_nnd_test = load_frank_nnd(\"/export/share/plaban/data/summac_benchmark/frank/\")\n",
    "print(\"SummEval has %d NND test pairs; FRANK has %d\" % (len(summeval_nnd_test), len(frank_nnd_test)))"
   ]
  },
  {
   "cell_type": "code",
   "execution_count": 3,
   "id": "b31f1f68",
   "metadata": {},
   "outputs": [
    {
     "name": "stdout",
     "output_type": "stream",
     "text": [
      "[2022-10-22 14:37:22,236] [WARNING] [partition_parameters.py:53:<module>] unable to find torch.distributed._all_gather_base. will fall back to torch.distributed.all_gather which will result in suboptimal performance. please consider upgrading your pytorch installation.\n"
     ]
    }
   ],
   "source": [
    "summarizers = [\n",
    "    {\"model_name\": \"BART-L\", \"model\": GeneratorHF(model_card=\"facebook/bart-large-cnn\")},\n",
    "    {\"model_name\": \"PEGASUS\", \"model\": GeneratorHF(model_card=\"google/pegasus-cnn_dailymail\")},\n",
    "    {\"model_name\": \"BRIO\", \"model\": GeneratorHF(model_card=\"Yale-LILY/brio-cnndm-cased\")},\n",
    "]"
   ]
  },
  {
   "cell_type": "code",
   "execution_count": 4,
   "id": "8d6007a7",
   "metadata": {},
   "outputs": [
    {
     "name": "stderr",
     "output_type": "stream",
     "text": [
      "NND BART-L: 100%|██████████| 3613/3613 [00:37<00:00, 95.13it/s]  \n",
      "NND PEGASUS: 100%|██████████| 3613/3613 [00:48<00:00, 73.84it/s]  \n",
      "NND BRIO: 100%|██████████| 3613/3613 [00:37<00:00, 97.33it/s]  "
     ]
    },
    {
     "name": "stdout",
     "output_type": "stream",
     "text": [
      "  model_name   accuracy  A_consistency  A_no error  A_coherence  A_fluency  A_relevance\n",
      "0     BART-L  71.104345       0.713274    0.711043     0.747475   0.688830     0.685921\n",
      "1    PEGASUS  72.986438       0.766372    0.729864     0.744108   0.727394     0.697653\n",
      "2       BRIO  73.290894       0.711504    0.732909     0.737374   0.753989     0.724729\n"
     ]
    },
    {
     "name": "stderr",
     "output_type": "stream",
     "text": [
      "\n"
     ]
    }
   ],
   "source": [
    "results = [run_nnd(summeval_nnd_test, summ[\"model\"], summ[\"model_name\"], no_error_label=\"no error\", report_type=\"accuracy\") for summ in summarizers]\n",
    "with pd.option_context('display.max_rows', 300, 'display.max_columns', 7, 'display.expand_frame_repr', False):\n",
    "    print(pd.DataFrame(results))"
   ]
  },
  {
   "cell_type": "code",
   "execution_count": 5,
   "id": "758186d4",
   "metadata": {},
   "outputs": [
    {
     "name": "stderr",
     "output_type": "stream",
     "text": [
      "NND BART-L: 100%|██████████| 848/848 [00:36<00:00, 23.54it/s]\n",
      "NND PEGASUS: 100%|██████████| 848/848 [00:47<00:00, 17.83it/s]\n",
      "NND BRIO: 100%|██████████| 848/848 [00:35<00:00, 23.64it/s]\n"
     ]
    },
    {
     "data": {
      "text/html": [
       "<div>\n",
       "<style scoped>\n",
       "    .dataframe tbody tr th:only-of-type {\n",
       "        vertical-align: middle;\n",
       "    }\n",
       "\n",
       "    .dataframe tbody tr th {\n",
       "        vertical-align: top;\n",
       "    }\n",
       "\n",
       "    .dataframe thead th {\n",
       "        text-align: right;\n",
       "    }\n",
       "</style>\n",
       "<table border=\"1\" class=\"dataframe\">\n",
       "  <thead>\n",
       "    <tr style=\"text-align: right;\">\n",
       "      <th></th>\n",
       "      <th>model_name</th>\n",
       "      <th>accuracy</th>\n",
       "      <th>A_NoE</th>\n",
       "      <th>A_CorefE</th>\n",
       "      <th>A_GramE</th>\n",
       "      <th>A_CircE</th>\n",
       "      <th>A_LinkE</th>\n",
       "      <th>A_EntE</th>\n",
       "      <th>A_RelE</th>\n",
       "      <th>A_OtherE</th>\n",
       "      <th>A_OutE</th>\n",
       "    </tr>\n",
       "  </thead>\n",
       "  <tbody>\n",
       "    <tr>\n",
       "      <th>0</th>\n",
       "      <td>BART-L</td>\n",
       "      <td>80.778302</td>\n",
       "      <td>0.807783</td>\n",
       "      <td>0.701299</td>\n",
       "      <td>0.812030</td>\n",
       "      <td>0.820896</td>\n",
       "      <td>0.729730</td>\n",
       "      <td>0.837580</td>\n",
       "      <td>0.891892</td>\n",
       "      <td>0.875000</td>\n",
       "      <td>0.822222</td>\n",
       "    </tr>\n",
       "    <tr>\n",
       "      <th>1</th>\n",
       "      <td>PEGASUS</td>\n",
       "      <td>81.485849</td>\n",
       "      <td>0.814858</td>\n",
       "      <td>0.707792</td>\n",
       "      <td>0.864662</td>\n",
       "      <td>0.776119</td>\n",
       "      <td>0.783784</td>\n",
       "      <td>0.843949</td>\n",
       "      <td>0.878378</td>\n",
       "      <td>0.875000</td>\n",
       "      <td>0.777778</td>\n",
       "    </tr>\n",
       "    <tr>\n",
       "      <th>2</th>\n",
       "      <td>BRIO</td>\n",
       "      <td>77.004717</td>\n",
       "      <td>0.770047</td>\n",
       "      <td>0.779221</td>\n",
       "      <td>0.804511</td>\n",
       "      <td>0.731343</td>\n",
       "      <td>0.567568</td>\n",
       "      <td>0.786624</td>\n",
       "      <td>0.783784</td>\n",
       "      <td>0.833333</td>\n",
       "      <td>0.688889</td>\n",
       "    </tr>\n",
       "  </tbody>\n",
       "</table>\n",
       "</div>"
      ],
      "text/plain": [
       "  model_name   accuracy     A_NoE  A_CorefE   A_GramE   A_CircE   A_LinkE  \\\n",
       "0     BART-L  80.778302  0.807783  0.701299  0.812030  0.820896  0.729730   \n",
       "1    PEGASUS  81.485849  0.814858  0.707792  0.864662  0.776119  0.783784   \n",
       "2       BRIO  77.004717  0.770047  0.779221  0.804511  0.731343  0.567568   \n",
       "\n",
       "     A_EntE    A_RelE  A_OtherE    A_OutE  \n",
       "0  0.837580  0.891892  0.875000  0.822222  \n",
       "1  0.843949  0.878378  0.875000  0.777778  \n",
       "2  0.786624  0.783784  0.833333  0.688889  "
      ]
     },
     "execution_count": 5,
     "metadata": {},
     "output_type": "execute_result"
    }
   ],
   "source": [
    "results = [run_nnd(frank_nnd_test, summ[\"model\"], summ[\"model_name\"], report_type=\"accuracy\") for summ in summarizers]\n",
    "pd.DataFrame(results)"
   ]
  }
 ],
 "metadata": {
  "kernelspec": {
   "display_name": "Python 3.8.8 ('base')",
   "language": "python",
   "name": "python3"
  },
  "language_info": {
   "codemirror_mode": {
    "name": "ipython",
    "version": 3
   },
   "file_extension": ".py",
   "mimetype": "text/x-python",
   "name": "python",
   "nbconvert_exporter": "python",
   "pygments_lexer": "ipython3",
   "version": "3.8.8"
  },
  "vscode": {
   "interpreter": {
    "hash": "67c54bf5fb630355f694c741165b3bdb09e3b950d114a736855d00c72ee312e0"
   }
  }
 },
 "nbformat": 4,
 "nbformat_minor": 5
}
