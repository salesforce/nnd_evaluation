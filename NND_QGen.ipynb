{
 "cells": [
  {
   "cell_type": "code",
   "execution_count": 1,
   "id": "9c16166e",
   "metadata": {},
   "outputs": [],
   "source": [
    "# This notebook runs the NND experiment in \n",
    "# Section 5.1 of the paper: \"Extrapolating Model Performance\"\n",
    "# The 7 models that were part of the Quiz Design paper\n",
    "# As well as 3 additional models, are compared on\n",
    "# Quiz Design NND - extrapolating that more recent or larger models\n",
    "# would lead to further gain on the Quiz Design task"
   ]
  },
  {
   "cell_type": "code",
   "execution_count": 2,
   "id": "5400329c",
   "metadata": {
    "scrolled": false
   },
   "outputs": [
    {
     "name": "stdout",
     "output_type": "stream",
     "text": [
      "Will use GPU: 0\n"
     ]
    }
   ],
   "source": [
    "import utils_misc\n",
    "freer_gpu = utils_misc.select_freer_gpu()\n",
    "\n",
    "from utils_nnd_dataset import load_qd_nnd\n",
    "from utils_nnd import GeneratorHF\n",
    "import pandas as pd\n",
    "import utils_nnd"
   ]
  },
  {
   "cell_type": "code",
   "execution_count": 3,
   "id": "b31f1f68",
   "metadata": {},
   "outputs": [],
   "source": [
    "qgens = [\n",
    "        {\"model_card\": \"distilgpt2\", \"starter_file\": \"qgen/dgpt2_squad_aaware_1.794.bin\", \"model_name\": \"dgpt2_sup\"},\n",
    "        {\"model_card\": \"gpt2\", \"starter_file\": \"qgen/gpt2b_squad_aaware_1.575.bin\", \"model_name\": \"gpt2b_sup\"},\n",
    "        {\"model_card\": \"gpt2-medium\", \"starter_file\": \"qgen/gpt2m_nf_squad_aaware_1.392.bin\", \"model_name\": \"gpt2m_sup\"},\n",
    "        {\"model_card\": \"facebook/bart-base\", \"starter_file\": \"qgen/bartb_nf_squad_aaware_1.492.bin\", \"model_name\": \"bartb_sup\"},\n",
    "        {\"model_card\": \"facebook/bart-large\", \"starter_file\": \"qgen/bartL_nf_squad_aaware_1.290.bin\", \"model_name\": \"bartl_sup\"},\n",
    "        {\"model_card\": \"microsoft/prophetnet-large-uncased-squad-qg\", \"starter_file\": None, \"model_name\": \"prophetnet\"},\n",
    "        {\"model_card\": \"Salesforce/mixqg-large\", \"starter_file\": None, \"model_name\": \"mixqg\"},\n",
    "        \n",
    "        {\"model_card\": \"Salesforce/mixqg-3b\", \"starter_file\": None, \"model_name\": \"mixqg-3b\"},\n",
    "        {\"model_card\": \"allenai/macaw-3b\", \"starter_file\": None, \"model_name\": \"macaw-3b\", \"params\": {\"force_dec_prepend\": \"$question$ = \"}},\n",
    "        # Better to run on CPU to avoid core dumps, feel free to comment out as it is very slow (~10 hours)\n",
    "        # {\"model_card\": \"allenai/macaw-11b\", \"starter_file\": None, \"model_name\": \"macaw-11b\", \"params\": {\"force_dec_prepend\": \"$question$ = \", \"device\": \"cpu\"}},\n",
    "        {\"model_card\": \"allenai/macaw-answer-11b\", \"starter_file\": None, \"model_name\": \"macaw-answer-11b\", \"params\": {\"force_dec_prepend\": \"$question$ = \", \"device\": \"cpu\"}},\n",
    "\n",
    "    ]"
   ]
  },
  {
   "cell_type": "code",
   "execution_count": 6,
   "id": "758186d4",
   "metadata": {},
   "outputs": [
    {
     "name": "stderr",
     "output_type": "stream",
     "text": [
      "/export/home/anaconda3/lib/python3.8/site-packages/transformers/configuration_utils.py:336: UserWarning: Passing `gradient_checkpointing` to a config initialization is deprecated and will be removed in v5 Transformers. Using `model.gradient_checkpointing_enable()` instead, or if you are using the `Trainer` API, pass `gradient_checkpointing=True` in your `TrainingArguments`.\n",
      "  warnings.warn(\n",
      "NND dgpt2_sup:   0%|          | 3/2686 [00:00<01:47, 24.98it/s]"
     ]
    },
    {
     "name": "stdout",
     "output_type": "stream",
     "text": [
      "<All keys matched successfully>\n"
     ]
    },
    {
     "name": "stderr",
     "output_type": "stream",
     "text": [
      "NND dgpt2_sup: 100%|██████████| 2686/2686 [00:52<00:00, 50.90it/s]\n"
     ]
    },
    {
     "name": "stdout",
     "output_type": "stream",
     "text": [
      "{'model_name': 'dgpt2_sup', 'accuracy': 44.899478778853315, 'A_disfluent': 0.5274261603375527, 'A_No error': 0.44899478778853313, 'A_wrong_context': 0.4599078341013825, 'A_off_target': 0.37303370786516854}\n"
     ]
    },
    {
     "name": "stderr",
     "output_type": "stream",
     "text": [
      "NND gpt2b_sup:   0%|          | 1/2686 [00:00<04:32,  9.86it/s]"
     ]
    },
    {
     "name": "stdout",
     "output_type": "stream",
     "text": [
      "<All keys matched successfully>\n"
     ]
    },
    {
     "name": "stderr",
     "output_type": "stream",
     "text": [
      "NND gpt2b_sup: 100%|██████████| 2686/2686 [01:39<00:00, 27.07it/s]\n"
     ]
    },
    {
     "name": "stdout",
     "output_type": "stream",
     "text": [
      "{'model_name': 'gpt2b_sup', 'accuracy': 52.34549516008935, 'A_No error': 0.5234549516008935, 'A_wrong_context': 0.4930875576036866, 'A_disfluent': 0.6033755274261603, 'A_off_target': 0.49662921348314604}\n"
     ]
    },
    {
     "name": "stderr",
     "output_type": "stream",
     "text": [
      "NND gpt2m_sup:   0%|          | 0/2686 [00:00<?, ?it/s]"
     ]
    },
    {
     "name": "stdout",
     "output_type": "stream",
     "text": [
      "<All keys matched successfully>\n"
     ]
    },
    {
     "name": "stderr",
     "output_type": "stream",
     "text": [
      "NND gpt2m_sup: 100%|██████████| 2686/2686 [03:18<00:00, 13.51it/s]\n"
     ]
    },
    {
     "name": "stdout",
     "output_type": "stream",
     "text": [
      "{'model_name': 'gpt2m_sup', 'accuracy': 60.79672375279226, 'A_No error': 0.6079672375279226, 'A_wrong_context': 0.5612903225806452, 'A_disfluent': 0.6329113924050633, 'A_off_target': 0.6449438202247191}\n"
     ]
    },
    {
     "name": "stderr",
     "output_type": "stream",
     "text": [
      "NND bartb_sup:   0%|          | 3/2686 [00:00<01:52, 23.84it/s]"
     ]
    },
    {
     "name": "stdout",
     "output_type": "stream",
     "text": [
      "<All keys matched successfully>\n"
     ]
    },
    {
     "name": "stderr",
     "output_type": "stream",
     "text": [
      "NND bartb_sup: 100%|██████████| 2686/2686 [01:02<00:00, 42.71it/s]\n"
     ]
    },
    {
     "name": "stdout",
     "output_type": "stream",
     "text": [
      "{'model_name': 'bartb_sup', 'accuracy': 59.60536113179449, 'A_disfluent': 0.6047819971870605, 'A_No error': 0.5960536113179449, 'A_wrong_context': 0.5502304147465438, 'A_off_target': 0.6449438202247191}\n"
     ]
    },
    {
     "name": "stderr",
     "output_type": "stream",
     "text": [
      "NND bartl_sup:   0%|          | 1/2686 [00:00<05:27,  8.20it/s]"
     ]
    },
    {
     "name": "stdout",
     "output_type": "stream",
     "text": [
      "<All keys matched successfully>\n"
     ]
    },
    {
     "name": "stderr",
     "output_type": "stream",
     "text": [
      "NND bartl_sup: 100%|██████████| 2686/2686 [02:03<00:00, 21.75it/s]\n"
     ]
    },
    {
     "name": "stdout",
     "output_type": "stream",
     "text": [
      "{'model_name': 'bartl_sup', 'accuracy': 64.22189128816083, 'A_No error': 0.6422189128816084, 'A_wrong_context': 0.5944700460829493, 'A_disfluent': 0.6329113924050633, 'A_off_target': 0.7078651685393258}\n"
     ]
    },
    {
     "name": "stderr",
     "output_type": "stream",
     "text": [
      "NND prophetnet: 100%|██████████| 2686/2686 [03:11<00:00, 14.04it/s]\n"
     ]
    },
    {
     "name": "stdout",
     "output_type": "stream",
     "text": [
      "{'model_name': 'prophetnet', 'accuracy': 67.6842889054356, 'A_disfluent': 0.580872011251758, 'A_No error': 0.676842889054356, 'A_wrong_context': 0.6405529953917051, 'A_off_target': 0.797752808988764}\n"
     ]
    },
    {
     "name": "stderr",
     "output_type": "stream",
     "text": [
      "NND mixqg: 100%|██████████| 2686/2686 [04:40<00:00,  9.58it/s]\n"
     ]
    },
    {
     "name": "stdout",
     "output_type": "stream",
     "text": [
      "{'model_name': 'mixqg', 'accuracy': 70.88607594936708, 'A_disfluent': 0.6694796061884669, 'A_No error': 0.7088607594936709, 'A_wrong_context': 0.6525345622119816, 'A_off_target': 0.8089887640449438}\n"
     ]
    },
    {
     "name": "stderr",
     "output_type": "stream",
     "text": [
      "NND mixqg-3b: 100%|██████████| 2686/2686 [05:31<00:00,  8.11it/s]\n"
     ]
    },
    {
     "name": "stdout",
     "output_type": "stream",
     "text": [
      "{'model_name': 'mixqg-3b', 'accuracy': 72.85927029039463, 'A_disfluent': 0.6947960618846695, 'A_No error': 0.7285927029039464, 'A_wrong_context': 0.6783410138248849, 'A_off_target': 0.8168539325842696}\n"
     ]
    },
    {
     "name": "stderr",
     "output_type": "stream",
     "text": [
      "NND macaw-3b: 100%|██████████| 2686/2686 [05:10<00:00,  8.64it/s]\n"
     ]
    },
    {
     "name": "stdout",
     "output_type": "stream",
     "text": [
      "{'model_name': 'macaw-3b', 'accuracy': 69.1734921816828, 'A_No error': 0.691734921816828, 'A_wrong_context': 0.6506912442396313, 'A_disfluent': 0.7032348804500703, 'A_off_target': 0.7325842696629213}\n"
     ]
    },
    {
     "name": "stderr",
     "output_type": "stream",
     "text": [
      "NND macaw-answer-11b: 100%|██████████| 2686/2686 [7:02:31<00:00,  9.44s/it]   "
     ]
    },
    {
     "name": "stdout",
     "output_type": "stream",
     "text": [
      "{'model_name': 'macaw-answer-11b', 'accuracy': 70.62546537602384, 'A_No error': 0.7062546537602383, 'A_wrong_context': 0.6543778801843319, 'A_disfluent': 0.6933895921237694, 'A_off_target': 0.7797752808988764}\n"
     ]
    },
    {
     "name": "stderr",
     "output_type": "stream",
     "text": [
      "\n"
     ]
    },
    {
     "data": {
      "text/html": [
       "<div>\n",
       "<style scoped>\n",
       "    .dataframe tbody tr th:only-of-type {\n",
       "        vertical-align: middle;\n",
       "    }\n",
       "\n",
       "    .dataframe tbody tr th {\n",
       "        vertical-align: top;\n",
       "    }\n",
       "\n",
       "    .dataframe thead th {\n",
       "        text-align: right;\n",
       "    }\n",
       "</style>\n",
       "<table border=\"1\" class=\"dataframe\">\n",
       "  <thead>\n",
       "    <tr style=\"text-align: right;\">\n",
       "      <th></th>\n",
       "      <th>model_name</th>\n",
       "      <th>accuracy</th>\n",
       "      <th>A_disfluent</th>\n",
       "      <th>A_No error</th>\n",
       "      <th>A_wrong_context</th>\n",
       "      <th>A_off_target</th>\n",
       "    </tr>\n",
       "  </thead>\n",
       "  <tbody>\n",
       "    <tr>\n",
       "      <th>0</th>\n",
       "      <td>dgpt2_sup</td>\n",
       "      <td>44.899479</td>\n",
       "      <td>0.527426</td>\n",
       "      <td>0.448995</td>\n",
       "      <td>0.459908</td>\n",
       "      <td>0.373034</td>\n",
       "    </tr>\n",
       "    <tr>\n",
       "      <th>1</th>\n",
       "      <td>gpt2b_sup</td>\n",
       "      <td>52.345495</td>\n",
       "      <td>0.603376</td>\n",
       "      <td>0.523455</td>\n",
       "      <td>0.493088</td>\n",
       "      <td>0.496629</td>\n",
       "    </tr>\n",
       "    <tr>\n",
       "      <th>2</th>\n",
       "      <td>gpt2m_sup</td>\n",
       "      <td>60.796724</td>\n",
       "      <td>0.632911</td>\n",
       "      <td>0.607967</td>\n",
       "      <td>0.561290</td>\n",
       "      <td>0.644944</td>\n",
       "    </tr>\n",
       "    <tr>\n",
       "      <th>3</th>\n",
       "      <td>bartb_sup</td>\n",
       "      <td>59.605361</td>\n",
       "      <td>0.604782</td>\n",
       "      <td>0.596054</td>\n",
       "      <td>0.550230</td>\n",
       "      <td>0.644944</td>\n",
       "    </tr>\n",
       "    <tr>\n",
       "      <th>4</th>\n",
       "      <td>bartl_sup</td>\n",
       "      <td>64.221891</td>\n",
       "      <td>0.632911</td>\n",
       "      <td>0.642219</td>\n",
       "      <td>0.594470</td>\n",
       "      <td>0.707865</td>\n",
       "    </tr>\n",
       "    <tr>\n",
       "      <th>5</th>\n",
       "      <td>prophetnet</td>\n",
       "      <td>67.684289</td>\n",
       "      <td>0.580872</td>\n",
       "      <td>0.676843</td>\n",
       "      <td>0.640553</td>\n",
       "      <td>0.797753</td>\n",
       "    </tr>\n",
       "    <tr>\n",
       "      <th>6</th>\n",
       "      <td>mixqg</td>\n",
       "      <td>70.886076</td>\n",
       "      <td>0.669480</td>\n",
       "      <td>0.708861</td>\n",
       "      <td>0.652535</td>\n",
       "      <td>0.808989</td>\n",
       "    </tr>\n",
       "    <tr>\n",
       "      <th>7</th>\n",
       "      <td>mixqg-3b</td>\n",
       "      <td>72.859270</td>\n",
       "      <td>0.694796</td>\n",
       "      <td>0.728593</td>\n",
       "      <td>0.678341</td>\n",
       "      <td>0.816854</td>\n",
       "    </tr>\n",
       "    <tr>\n",
       "      <th>8</th>\n",
       "      <td>macaw-3b</td>\n",
       "      <td>69.173492</td>\n",
       "      <td>0.703235</td>\n",
       "      <td>0.691735</td>\n",
       "      <td>0.650691</td>\n",
       "      <td>0.732584</td>\n",
       "    </tr>\n",
       "    <tr>\n",
       "      <th>9</th>\n",
       "      <td>macaw-answer-11b</td>\n",
       "      <td>70.625465</td>\n",
       "      <td>0.693390</td>\n",
       "      <td>0.706255</td>\n",
       "      <td>0.654378</td>\n",
       "      <td>0.779775</td>\n",
       "    </tr>\n",
       "  </tbody>\n",
       "</table>\n",
       "</div>"
      ],
      "text/plain": [
       "         model_name   accuracy  A_disfluent  A_No error  A_wrong_context  \\\n",
       "0         dgpt2_sup  44.899479     0.527426    0.448995         0.459908   \n",
       "1         gpt2b_sup  52.345495     0.603376    0.523455         0.493088   \n",
       "2         gpt2m_sup  60.796724     0.632911    0.607967         0.561290   \n",
       "3         bartb_sup  59.605361     0.604782    0.596054         0.550230   \n",
       "4         bartl_sup  64.221891     0.632911    0.642219         0.594470   \n",
       "5        prophetnet  67.684289     0.580872    0.676843         0.640553   \n",
       "6             mixqg  70.886076     0.669480    0.708861         0.652535   \n",
       "7          mixqg-3b  72.859270     0.694796    0.728593         0.678341   \n",
       "8          macaw-3b  69.173492     0.703235    0.691735         0.650691   \n",
       "9  macaw-answer-11b  70.625465     0.693390    0.706255         0.654378   \n",
       "\n",
       "   A_off_target  \n",
       "0      0.373034  \n",
       "1      0.496629  \n",
       "2      0.644944  \n",
       "3      0.644944  \n",
       "4      0.707865  \n",
       "5      0.797753  \n",
       "6      0.808989  \n",
       "7      0.816854  \n",
       "8      0.732584  \n",
       "9      0.779775  "
      ]
     },
     "execution_count": 6,
     "metadata": {},
     "output_type": "execute_result"
    }
   ],
   "source": [
    "results = []\n",
    "for gen in qgens:\n",
    "    qge_nnd_test = load_qd_nnd(datafolder=\"/export/home/data/\", model_card=gen[\"model_card\"])\n",
    "    model = GeneratorHF(model_card=gen[\"model_card\"], starter_file=gen[\"starter_file\"], **gen.get(\"params\", {}))\n",
    "    result = utils_nnd.run_nnd(qge_nnd_test, model, gen[\"model_name\"], no_error_label=\"No error\", report_type=\"accuracy\")\n",
    "    results.append(result)\n",
    "    print(result)\n",
    "pd.DataFrame(results)"
   ]
  }
 ],
 "metadata": {
  "kernelspec": {
   "display_name": "Python 3.8.8 ('base')",
   "language": "python",
   "name": "python3"
  },
  "language_info": {
   "codemirror_mode": {
    "name": "ipython",
    "version": 3
   },
   "file_extension": ".py",
   "mimetype": "text/x-python",
   "name": "python",
   "nbconvert_exporter": "python",
   "pygments_lexer": "ipython3",
   "version": "3.8.8"
  },
  "vscode": {
   "interpreter": {
    "hash": "67c54bf5fb630355f694c741165b3bdb09e3b950d114a736855d00c72ee312e0"
   }
  }
 },
 "nbformat": 4,
 "nbformat_minor": 5
}
